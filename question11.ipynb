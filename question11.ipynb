{
 "cells": [
  {
   "cell_type": "markdown",
   "id": "ae0b11a4-315c-4af1-969d-37fdb9895712",
   "metadata": {},
   "source": [
    "#Merdan Ergul\n",
    "Notebook for assignment 7"
   ]
  },
  {
   "cell_type": "code",
   "execution_count": 1,
   "id": "3bbcb56d-0604-450d-9d85-8a8e407df71e",
   "metadata": {},
   "outputs": [],
   "source": [
    "def compute_mean(values):\n",
    "    mean = sum(values) / len(values)\n",
    "    print(mean)"
   ]
  },
  {
   "cell_type": "code",
   "execution_count": 2,
   "id": "11516f5d-e45a-4f43-96e8-ef4e4711deb0",
   "metadata": {},
   "outputs": [
    {
     "name": "stdout",
     "output_type": "stream",
     "text": [
      "5.0\n"
     ]
    }
   ],
   "source": [
    "compute_mean([2, 4, 6, 8])"
   ]
  },
  {
   "cell_type": "markdown",
   "id": "5191bc2b-162e-45d4-bd14-35d89995d41e",
   "metadata": {},
   "source": [
    "1. Inline: \\( \\bar{x} = \\frac{1}{n} \\sum_{i=1}^{n} x_i \\)\n",
    "\n",
    "2. Display mode:\n",
    "\\[\n",
    "\\bar{x} = \\frac{1}{n} \\sum_{i=1}^{n} x_i\n",
    "\\]"
   ]
  },
  {
   "cell_type": "code",
   "execution_count": null,
   "id": "96ac481b-a041-46ab-94bf-84dbb9c05217",
   "metadata": {},
   "outputs": [],
   "source": []
  }
 ],
 "metadata": {
  "kernelspec": {
   "display_name": "Python [conda env:jupyterlab_env]",
   "language": "python",
   "name": "conda-env-jupyterlab_env-py"
  },
  "language_info": {
   "codemirror_mode": {
    "name": "ipython",
    "version": 3
   },
   "file_extension": ".py",
   "mimetype": "text/x-python",
   "name": "python",
   "nbconvert_exporter": "python",
   "pygments_lexer": "ipython3",
   "version": "3.10.18"
  }
 },
 "nbformat": 4,
 "nbformat_minor": 5
}
